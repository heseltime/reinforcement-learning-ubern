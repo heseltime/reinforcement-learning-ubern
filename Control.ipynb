{
  "nbformat": 4,
  "nbformat_minor": 0,
  "metadata": {
    "colab": {
      "provenance": []
    },
    "kernelspec": {
      "name": "python3",
      "display_name": "Python 3"
    }
  },
  "cells": [
    {
      "cell_type": "markdown",
      "source": [
        "# **Control for elementary Reinforcement Learning problems**\n",
        "\n",
        "Objectives: understanting the concept of control in RL for a simple grid-world environment and implement the Q-Learning algorithm\n",
        "\n",
        "1.   Train Q-Learning on one of the custom environments implemented (`GridWorldBlindEnemyEnv` or `GridWorldOracleEnemyEnv`)\n",
        "2.   Perform analysis regarding hyper-parameters of the algorithm\n",
        "\n"
      ],
      "metadata": {
        "id": "cRAF9H1wvW9-"
      }
    },
    {
      "cell_type": "markdown",
      "source": [
        "Install needed Python packages"
      ],
      "metadata": {
        "id": "N4T0wPS2xjDf"
      }
    },
    {
      "cell_type": "code",
      "source": [
        "!pip install pygame gym numpy"
      ],
      "metadata": {
        "colab": {
          "base_uri": "https://localhost:8080/"
        },
        "id": "y6SnH6p5xpdY",
        "outputId": "0349577a-bfd2-40c7-a712-86c1f60a8a4a"
      },
      "execution_count": null,
      "outputs": [
        {
          "output_type": "stream",
          "name": "stdout",
          "text": [
            "Requirement already satisfied: pygame in /usr/local/lib/python3.10/dist-packages (2.5.2)\n",
            "Requirement already satisfied: gym in /usr/local/lib/python3.10/dist-packages (0.25.2)\n",
            "Requirement already satisfied: numpy in /usr/local/lib/python3.10/dist-packages (1.25.2)\n",
            "Requirement already satisfied: cloudpickle>=1.2.0 in /usr/local/lib/python3.10/dist-packages (from gym) (2.2.1)\n",
            "Requirement already satisfied: gym-notices>=0.0.4 in /usr/local/lib/python3.10/dist-packages (from gym) (0.0.8)\n"
          ]
        }
      ]
    },
    {
      "cell_type": "markdown",
      "source": [
        "Import needed Python packages"
      ],
      "metadata": {
        "id": "RYKnoiSGHTuj"
      }
    },
    {
      "cell_type": "code",
      "source": [
        "import gym\n",
        "from gym import spaces\n",
        "import pygame\n",
        "import numpy as np"
      ],
      "metadata": {
        "id": "wAiFrJhyHTDE"
      },
      "execution_count": null,
      "outputs": []
    },
    {
      "cell_type": "markdown",
      "source": [
        "Mount Google Drive for saving results (not needed if running the notebook locally)"
      ],
      "metadata": {
        "id": "38s_n3bxQjpO"
      }
    },
    {
      "cell_type": "code",
      "source": [
        "# Mount Google Drive\n",
        "from google.colab import drive # import drive from google colab\n",
        "\n",
        "ROOT = \"/content/drive\"         # default location for the drive\n",
        "\n",
        "drive.mount(ROOT)              # we mount the google drive at /content/drive"
      ],
      "metadata": {
        "colab": {
          "base_uri": "https://localhost:8080/"
        },
        "id": "GVs6LmN4QhE3",
        "outputId": "36721702-abbe-4752-a926-90d833df18c8"
      },
      "execution_count": null,
      "outputs": [
        {
          "output_type": "stream",
          "name": "stdout",
          "text": [
            "Drive already mounted at /content/drive; to attempt to forcibly remount, call drive.mount(\"/content/drive\", force_remount=True).\n"
          ]
        }
      ]
    },
    {
      "cell_type": "markdown",
      "source": [
        "Imports and functions for recording/showing videos"
      ],
      "metadata": {
        "id": "03ddiJ3nTt2w"
      }
    },
    {
      "cell_type": "code",
      "source": [
        "from gym.wrappers import RecordVideo\n",
        "from pathlib import Path\n",
        "import base64\n",
        "from IPython import display as ipythondisplay"
      ],
      "metadata": {
        "id": "4B9aEomAT45U"
      },
      "execution_count": null,
      "outputs": []
    },
    {
      "cell_type": "code",
      "source": [
        "# Set up fake display; otherwise rendering will fail on Google Colab\n",
        "import os\n",
        "os.system(\"Xvfb :1 -screen 0 1024x768x24 &\")\n",
        "os.environ['DISPLAY'] = ':1'"
      ],
      "metadata": {
        "id": "ScgX7DejxcPq"
      },
      "execution_count": null,
      "outputs": []
    },
    {
      "cell_type": "code",
      "source": [
        "def show_videos(video_path='', prefix=''):\n",
        "  html = []\n",
        "  for mp4 in Path(video_path).glob(\"{}*.mp4\".format(prefix)):\n",
        "      video_b64 = base64.b64encode(mp4.read_bytes())\n",
        "      html.append('''<video alt=\"{}\" autoplay\n",
        "                    loop controls style=\"height: 400px;\">\n",
        "                    <source src=\"data:video/mp4;base64,{}\" type=\"video/mp4\" />\n",
        "                </video>'''.format(mp4, video_b64.decode('ascii')))\n",
        "  ipythondisplay.display(ipythondisplay.HTML(data=\"<br>\".join(html)))"
      ],
      "metadata": {
        "id": "37L5jNqvfm9t"
      },
      "execution_count": null,
      "outputs": []
    },
    {
      "cell_type": "markdown",
      "source": [
        "Record video of ten steps for random policy on `GridEnv` environment"
      ],
      "metadata": {
        "id": "-ClW7iLkdgkz"
      }
    },
    {
      "cell_type": "code",
      "source": [
        "import sys\n",
        "import os\n",
        "\n",
        "is_colab = 'google.colab' in sys.modules\n",
        "root_dir ='drive/MyDrive/WinterSchoolRL2024' if is_colab else '.'\n",
        "video_folder = os.path.join(root_dir, 'Videos')\n",
        "os.makedirs(video_folder, exist_ok=True)"
      ],
      "metadata": {
        "id": "rw3PsEHDJdgR"
      },
      "execution_count": null,
      "outputs": []
    },
    {
      "cell_type": "markdown",
      "source": [
        "# **Q-Learning**"
      ],
      "metadata": {
        "id": "fDsEsl25cKjp"
      }
    },
    {
      "cell_type": "markdown",
      "source": [
        "## Q-Learning on `GridWorldEnv`"
      ],
      "metadata": {
        "id": "MqXukWLUcKjq"
      }
    },
    {
      "cell_type": "code",
      "metadata": {
        "id": "ny9xvKCfshm-"
      },
      "source": [
        "class GridWorldEnv(gym.Env):\n",
        "    metadata = {\"render_modes\": [\"human\", \"rgb_array\"], \"render_fps\": 4}\n",
        "\n",
        "    def __init__(self, render_mode=None, size=5):\n",
        "        self.size = size  # The size of the square grid\n",
        "        self.window_size = 512  # The size of the PyGame window\n",
        "\n",
        "        # Observations are dictionaries with the agent's and the target's location.\n",
        "        # Each location is encoded as an element of {0, ..., `size`}^2, i.e. MultiDiscrete([size, size]).\n",
        "        self.observation_space = spaces.Dict(\n",
        "            {\n",
        "                \"agent\": spaces.Box(0, size - 1, shape=(2,), dtype=int),\n",
        "                \"target\": spaces.Box(0, size - 1, shape=(2,), dtype=int),\n",
        "            }\n",
        "        )\n",
        "\n",
        "        # We have 4 actions, corresponding to \"right\", \"up\", \"left\", \"down\"\n",
        "        self.action_space = spaces.Discrete(4)\n",
        "\n",
        "        \"\"\"\n",
        "        The following dictionary maps abstract actions from `self.action_space` to\n",
        "        the direction we will walk in if that action is taken.\n",
        "        I.e. 0 corresponds to \"right\", 1 to \"up\" etc.\n",
        "        \"\"\"\n",
        "        self._action_to_direction = {\n",
        "            0: np.array([1, 0]),\n",
        "            1: np.array([0, 1]),\n",
        "            2: np.array([-1, 0]),\n",
        "            3: np.array([0, -1]),\n",
        "        }\n",
        "\n",
        "        assert render_mode is None or render_mode in self.metadata[\"render_modes\"]\n",
        "        self.render_mode = render_mode\n",
        "\n",
        "        \"\"\"\n",
        "        If human-rendering is used, `self.window` will be a reference\n",
        "        to the window that we draw to. `self.clock` will be a clock that is used\n",
        "        to ensure that the environment is rendered at the correct framerate in\n",
        "        human-mode. They will remain `None` until human-mode is used for the\n",
        "        first time.\n",
        "        \"\"\"\n",
        "        self.window = None\n",
        "        self.clock = None\n",
        "\n",
        "    # Private method to get observations\n",
        "    def _get_obs(self):\n",
        "        return {\"agent\": self._agent_location, \"target\": self._target_location}\n",
        "\n",
        "    # Private method to get info\n",
        "    def _get_info(self):\n",
        "        return {\"distance\": np.linalg.norm(self._agent_location - self._target_location, ord=1)}\n",
        "\n",
        "    # Reset method for the environment\n",
        "    def reset(self, seed=None, options=None):\n",
        "        # We need the following line to seed self.np_random\n",
        "        super().reset(seed=seed)\n",
        "\n",
        "        # Choose the agent's location uniformly at random\n",
        "        self._agent_location = self.np_random.integers(0, self.size, size=2, dtype=int)\n",
        "\n",
        "        # We will sample the target's location randomly until it does not coincide with the agent's location\n",
        "        self._target_location = self._agent_location\n",
        "        while np.array_equal(self._target_location, self._agent_location):\n",
        "            self._target_location = self.np_random.integers(\n",
        "                0, self.size, size=2, dtype=int\n",
        "            )\n",
        "\n",
        "        observation = self._get_obs()\n",
        "        info = self._get_info()\n",
        "\n",
        "        if self.render_mode == \"human\":\n",
        "            self._render_frame()\n",
        "\n",
        "        return observation, info\n",
        "\n",
        "    # Step method for the environment\n",
        "    def step(self, action):\n",
        "        # Map the action (element of {0,1,2,3}) to the direction we walk in\n",
        "        direction = self._action_to_direction[action]\n",
        "        # We use `np.clip` to make sure we don't leave the grid\n",
        "        self._agent_location = np.clip(\n",
        "            self._agent_location + direction, 0, self.size - 1\n",
        "        )\n",
        "        # An episode is done iff the agent has reached the target\n",
        "        terminated = np.array_equal(self._agent_location, self._target_location)\n",
        "        reward = 1 if terminated else 0  # Binary sparse rewards\n",
        "        observation = self._get_obs()\n",
        "        info = self._get_info()\n",
        "\n",
        "        if self.render_mode == \"human\":\n",
        "            self._render_frame()\n",
        "\n",
        "        return observation, reward, terminated, False, info\n",
        "\n",
        "    # Render method for visualization\n",
        "    def render(self):\n",
        "        if self.render_mode == \"rgb_array\":\n",
        "            return self._render_frame()\n",
        "\n",
        "    def _render_frame(self):\n",
        "        if self.window is None and self.render_mode == \"human\":\n",
        "            pygame.init()\n",
        "            pygame.display.init()\n",
        "            self.window = pygame.display.set_mode((self.window_size, self.window_size))\n",
        "        if self.clock is None and self.render_mode == \"human\":\n",
        "            self.clock = pygame.time.Clock()\n",
        "\n",
        "        canvas = pygame.Surface((self.window_size, self.window_size))\n",
        "        canvas.fill((255, 255, 255))\n",
        "        pix_square_size = (\n",
        "            self.window_size / self.size\n",
        "        )  # The size of a single grid square in pixels\n",
        "\n",
        "        # First we draw the target\n",
        "        pygame.draw.rect(\n",
        "            canvas,\n",
        "            (255, 0, 0),\n",
        "            pygame.Rect(\n",
        "                pix_square_size * self._target_location,\n",
        "                (pix_square_size, pix_square_size),\n",
        "            ),\n",
        "        )\n",
        "        # Now we draw the agent\n",
        "        pygame.draw.circle(\n",
        "            canvas,\n",
        "            (0, 0, 255),\n",
        "            (self._agent_location + 0.5) * pix_square_size,\n",
        "            pix_square_size / 3,\n",
        "        )\n",
        "\n",
        "        # Finally, add some gridlines\n",
        "        for x in range(self.size + 1):\n",
        "            pygame.draw.line(\n",
        "                canvas,\n",
        "                0,\n",
        "                (0, pix_square_size * x),\n",
        "                (self.window_size, pix_square_size * x),\n",
        "                width=3,\n",
        "            )\n",
        "            pygame.draw.line(\n",
        "                canvas,\n",
        "                0,\n",
        "                (pix_square_size * x, 0),\n",
        "                (pix_square_size * x, self.window_size),\n",
        "                width=3,\n",
        "            )\n",
        "\n",
        "        if self.render_mode == \"human\":\n",
        "            # The following line copies our drawings from `canvas` to the visible window\n",
        "            self.window.blit(canvas, canvas.get_rect())\n",
        "            pygame.event.pump()\n",
        "            pygame.display.update()\n",
        "\n",
        "            # We need to ensure that human-rendering occurs at the predefined framerate.\n",
        "            # The following line will automatically add a delay to keep the framerate stable.\n",
        "            self.clock.tick(self.metadata[\"render_fps\"])\n",
        "        else:  # rgb_array\n",
        "            return np.transpose(\n",
        "                np.array(pygame.surfarray.pixels3d(canvas)), axes=(1, 0, 2)\n",
        "            )\n"
      ],
      "execution_count": null,
      "outputs": []
    },
    {
      "cell_type": "markdown",
      "source": [
        "Initialize grid-world environment"
      ],
      "metadata": {
        "id": "bARwQyJrc7F1"
      }
    },
    {
      "cell_type": "code",
      "source": [
        "grid_size = 5\n",
        "gwenv = GridWorldEnv(render_mode='rgb_array', size=grid_size)"
      ],
      "metadata": {
        "id": "7NhI7T8Lc6hF"
      },
      "execution_count": null,
      "outputs": []
    },
    {
      "cell_type": "markdown",
      "source": [
        "Function to inizialize the Q table"
      ],
      "metadata": {
        "id": "k3mal41FcKjq"
      }
    },
    {
      "cell_type": "code",
      "source": [
        "def initializeQ(gwenv):\n",
        "  Q = np.zeros((gwenv.size, gwenv.size,   # x and y for agent\n",
        "                gwenv.size, gwenv.size,   # x and y for target\n",
        "                gwenv.action_space.n))    # actions\n",
        "  return Q\n"
      ],
      "metadata": {
        "id": "Wrop1dWvcKjr"
      },
      "execution_count": null,
      "outputs": []
    },
    {
      "cell_type": "markdown",
      "source": [
        "Function to run one episode of the algorithm on `GridWorldEnv`"
      ],
      "metadata": {
        "id": "BGAEfiuYcKjr"
      }
    },
    {
      "cell_type": "code",
      "source": [
        "def run_episode_gwenv(env, Q, lr, discount, epsilon=0.1, render=False, _maxsteps=20, optimal=False):\n",
        "\n",
        "\tobservation, _ = env.reset()\n",
        "\tdone = False\n",
        "\tnsteps = 0\n",
        "\n",
        "\tfor x in range(_maxsteps):\n",
        "\n",
        "\t\tnsteps += 1\n",
        "\n",
        "\t\tif done:\n",
        "\t\t\tbreak\n",
        "\n",
        "\t\tif render:\n",
        "\t\t\tenv.render()\n",
        "\n",
        "\t\tcurr_state = observation\n",
        "\n",
        "\t\t# handle multi dims of Q table\n",
        "\t\tax = curr_state['agent'][0]\n",
        "\t\tay = curr_state['agent'][1]\n",
        "\t\ttx = curr_state['target'][0]\n",
        "\t\tty = curr_state['target'][1]\n",
        "\n",
        "\t\t# training time\n",
        "\t\tif not optimal:\n",
        "\n",
        "\t\t\t# Epsilon-greedy policy\n",
        "\t\t\trandnum = np.random.rand(1)\n",
        "\t\t\tif randnum < epsilon:\n",
        "\t\t\t\taction = env.action_space.sample()\n",
        "\t\t\telse:\n",
        "\t\t\t\taction = np.argmax(Q[ax, ay, tx, ty,:])\n",
        "\n",
        "\t\t\tobservation, reward, done, _, info = env.step(action)\n",
        "\n",
        "\t\t\t# handle multi-dims of Q table\n",
        "\t\t\tax_next = observation['agent'][0]\n",
        "\t\t\tay_next = observation['agent'][1]\n",
        "\t\t\ttx_next = observation['target'][0]\n",
        "\t\t\tty_next = observation['target'][1]\n",
        "\n",
        "\t\t\t#Q(state, action) = R(state, action) + Gamma * Max[Q(next state, all actions)]\n",
        "\t\t\tQ[ax, ay, tx, ty, action] += lr * (reward+ discount*np.max(Q[ax_next, ay_next, tx_next, ty_next, :]) - Q[ax, ay, tx, ty, action])\n",
        "\n",
        "\t\t# evaluation time\n",
        "\t\telse:\n",
        "\t\t\taction = np.argmax(Q[ax, ay, tx, ty,:])\n",
        "\n",
        "\t\t\tobservation, reward, done, _, info = env.step(action)\n",
        "\n",
        "\treturn Q, reward\n"
      ],
      "metadata": {
        "id": "3cJ657B3cKjs"
      },
      "execution_count": null,
      "outputs": []
    },
    {
      "cell_type": "markdown",
      "source": [
        "Function to run Q-Learning"
      ],
      "metadata": {
        "id": "VvBrmVzKcKjs"
      }
    },
    {
      "cell_type": "code",
      "source": [
        "from pyparsing.helpers import Callable\n",
        "from tqdm import tqdm\n",
        "\n",
        "def QLearning(env: gym.Env, num_episodes: int, initQ: Callable, run_episode: Callable, config: dict):\n",
        "\n",
        "\treward_per_ep = list()\n",
        "\tQ = initQ(env)\n",
        "\n",
        "\tfor i in tqdm(range(num_episodes)):\n",
        "\t\tQ, reward = run_episode(env, Q, **config)\n",
        "\t\treward_per_ep.append(reward)\n",
        "\n",
        "\treturn Q, reward_per_ep\n",
        "\n"
      ],
      "metadata": {
        "id": "Y54BV6kUcKjs"
      },
      "execution_count": null,
      "outputs": []
    },
    {
      "cell_type": "markdown",
      "source": [
        "Train Q-Learning on `GridWorldEnv`"
      ],
      "metadata": {
        "id": "yV1iK7MwcKjt"
      }
    },
    {
      "cell_type": "code",
      "source": [
        "config = {}\n",
        "config['lr'] = 0.1\n",
        "config['discount'] = 0.99\n",
        "config['epsilon'] = 0.2\n",
        "num_episodes = 10000\n",
        "\n",
        "Q_trained, reward_per_ep = QLearning(gwenv,\n",
        "                                  \tnum_episodes,\n",
        "\t\t\t\t\t\t\t\t\t\t\t\t\t\t\t\t\t\tinitQ=initializeQ,\n",
        "\t\t\t\t\t\t\t\t\t\t\t\t\t\t\t\t\t\trun_episode=run_episode_gwenv,\n",
        "\t\t\t\t\t\t\t\t\t\t\t\t\t\t\t\t\t\tconfig=config)"
      ],
      "metadata": {
        "colab": {
          "base_uri": "https://localhost:8080/"
        },
        "outputId": "aca5e49f-b93e-46ae-827a-271e31ca9197",
        "id": "VmCTmrnEcKjt"
      },
      "execution_count": null,
      "outputs": [
        {
          "output_type": "stream",
          "name": "stderr",
          "text": [
            "100%|██████████| 10000/10000 [00:07<00:00, 1323.39it/s]\n"
          ]
        }
      ]
    },
    {
      "cell_type": "markdown",
      "source": [
        "Plot learning curve (i.e., average reward over fixed window)"
      ],
      "metadata": {
        "id": "pZlNnu1_cKju"
      }
    },
    {
      "cell_type": "code",
      "source": [
        "from matplotlib import pyplot as plt\n",
        "\n",
        "def averagewindow(R, d=1):\n",
        "    n = len(R)\n",
        "    t = []\n",
        "    y = []\n",
        "    for i in range(0,int(n/d)):\n",
        "        t.append(np.mean(range(i*d,(i+1)*d)));\n",
        "        y.append(np.mean(R[i*d:min(n,(i+1)*d)]))\n",
        "    return t,y\n",
        "\n",
        "window = 100\n",
        "t,y = averagewindow(reward_per_ep, d=window)\n",
        "plt.plot(t, y)"
      ],
      "metadata": {
        "colab": {
          "base_uri": "https://localhost:8080/",
          "height": 448
        },
        "outputId": "0ffc0096-5c12-4805-dbe4-1ab3d88ae86b",
        "id": "i6zBSfo9cKju"
      },
      "execution_count": null,
      "outputs": [
        {
          "output_type": "execute_result",
          "data": {
            "text/plain": [
              "[<matplotlib.lines.Line2D at 0x7ae243733460>]"
            ]
          },
          "metadata": {},
          "execution_count": 30
        },
        {
          "output_type": "display_data",
          "data": {
            "text/plain": [
              "<Figure size 640x480 with 1 Axes>"
            ],
            "image/png": "[encoded data removed]"
          },
          "metadata": {}
        }
      ]
    },
    {
      "cell_type": "markdown",
      "source": [
        "Record video in inference mode"
      ],
      "metadata": {
        "id": "RZzpi8I3cKjv"
      }
    },
    {
      "cell_type": "code",
      "source": [
        "config['optimal'] = True                  # no learning anymore\n",
        "config['render'] = True                   # render for recording\n",
        "initQ_trained = lambda env: Q_trained     # dummy function that returns the trained Q table\n",
        "prefix = 'gwenv_q'\n",
        "vid_episodes = 4\n",
        "\n",
        "# use wrapper to record videos\n",
        "gwenv_vid = RecordVideo(gwenv,\n",
        "                        video_folder=video_folder,\n",
        "                        episode_trigger=lambda ep: (ep < vid_episodes),\n",
        "                        step_trigger=None,\n",
        "                        video_length=0,\n",
        "                        name_prefix=prefix,\n",
        "                        new_step_api=True\n",
        "                        )\n",
        "\n",
        "# use wrapper to record videos\n",
        "Q_trained, reward_per_ep_test = QLearning(gwenv_vid,\n",
        "                                          num_episodes=vid_episodes,\n",
        "                                          initQ=initQ_trained,\n",
        "                                          run_episode=run_episode_gwenv,\n",
        "                                          config=config)"
      ],
      "metadata": {
        "colab": {
          "base_uri": "https://localhost:8080/"
        },
        "outputId": "b2719dc7-33dc-46d1-ca74-964d85c2b0a1",
        "id": "ThWwxTKAcKjv"
      },
      "execution_count": null,
      "outputs": [
        {
          "output_type": "stream",
          "name": "stderr",
          "text": [
            "/usr/local/lib/python3.10/dist-packages/gym/wrappers/record_video.py:78: UserWarning: \u001b[33mWARN: Overwriting existing videos at /content/drive/MyDrive/WinterSchoolRL2024/Videos folder (try specifying a different `video_folder` for the `RecordVideo` wrapper if this is not desired)\u001b[0m\n",
            "  logger.warn(\n",
            "100%|██████████| 4/4 [00:01<00:00,  2.14it/s]\n"
          ]
        }
      ]
    },
    {
      "cell_type": "markdown",
      "source": [
        "Play videos over some episodes"
      ],
      "metadata": {
        "id": "VldwLZ_2kKsp"
      }
    },
    {
      "cell_type": "code",
      "source": [
        "show_videos(video_folder, prefix=prefix)"
      ],
      "metadata": {
        "colab": {
          "base_uri": "https://localhost:8080/",
          "height": 1000
        },
        "id": "5Ggl7d4-fhID",
        "outputId": "1772d19d-8be6-42f1-c684-f7d8591923eb"
      },
      "execution_count": null,
      "outputs": [
        {
          "output_type": "display_data",
          "data": {
            "text/plain": [
              "<IPython.core.display.HTML object>"
            ],
            "text/html": [
              "<video alt=\"drive/MyDrive/WinterSchoolRL2024/Videos/gwenv_q-episode-0.mp4\" autoplay\n",
              "                    loop controls style=\"height: 400px;\">\n",
              "                    <source src=\"data:video/mp4;base64,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\" type=\"video/mp4\" />\n",
              "                </video><br><video alt=\"drive/MyDrive/WinterSchoolRL2024/Videos/gwenv_q-episode-1.mp4\" autoplay\n",
              "                    loop controls style=\"height: 400px;\">\n",
              "                    <source src=\"data:video/mp4;base64,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\" type=\"video/mp4\" />\n",
              "                </video><br><video alt=\"drive/MyDrive/WinterSchoolRL2024/Videos/gwenv_q-episode-2.mp4\" autoplay\n",
              "                    loop controls style=\"height: 400px;\">\n",
              "                    <source src=\"data:video/mp4;base64,AAAAIGZ0eXBpc29tAAACAGlzb21pc28yYXZjMW1wNDEAAAAIZnJlZQAAHjttZGF0AAACrQYF//+p3EXpvebZSLeWLNgg2SPu73gyNjQgLSBjb3JlIDE2MyByMzA2MCA1ZGI2YWE2IC0gSC4yNjQvTVBFRy00IEFWQyBjb2RlYyAtIENvcHlsZWZ0IDIwMDMtMjAyMSAtIGh0dHA6Ly93d3cudmlkZW9sYW4ub3JnL3gyNjQuaHRtbCAtIG9wdGlvbnM6IGNhYmFjPTEgcmVmPTMgZGVibG9jaz0xOjA6MCBhbmFseXNlPTB4MzoweDExMyBtZT1oZXggc3VibWU9NyBwc3k9MSBwc3lfcmQ9MS4wMDowLjAwIG1peGVkX3JlZj0xIG1lX3JhbmdlPTE2IGNocm9tYV9tZT0xIHRyZWxsaXM9MSA4eDhkY3Q9MSBjcW09MCBkZWFkem9uZT0yMSwxMSBmYXN0X3Bza2lwPTEgY2hyb21hX3FwX29mZnNldD0tMiB0aHJlYWRzPTMgbG9va2FoZWFkX3RocmVhZHM9MSBzbGljZWRfdGhyZWFkcz0wIG5yPTAgZGVjaW1hdGU9MSBpbnRlcmxhY2VkPTAgYmx1cmF5X2NvbXBhdD0wIGNvbnN0cmFpbmVkX2ludHJhPTAgYmZyYW1lcz0zIGJfcHlyYW1pZD0yIGJfYWRhcHQ9MSBiX2JpYXM9MCBkaXJlY3Q9MSB3ZWlnaHRiPTEgb3Blbl9nb3A9MCB3ZWlnaHRwPTIga2V5aW50PTI1MCBrZXlpbnRfbWluPTQgc2NlbmVjdXQ9NDAgaW50cmFfcmVmcmVzaD0wIHJjX2xvb2thaGVhZD00MCByYz1jcmYgbWJ0cmVlPTEgY3JmPTIzLjAgcWNvbXA9MC42MCBxcG1pbj0wIHFwbWF4PTY5IHFwc3RlcD00IGlwX3JhdGlvPTEuNDAgYXE9MToxLjAwAIAAAAplZYiEAL9jU4bm1btEhiAd2XjZPtzZdWdDWrrkgmJyXryn0Betpk9qiL49NipcYjT8yafbgKTC+BJEV9hkiONLgF/5sHTc9cvrbBKxmZ7PFiT5Pkbw5OcW0ll5sxWDLJLiP8je1VOdj/V9Bl0C6d+EALKJQ7+DLrbCL32LzEuC+HPJjrycmk9ahE2QVyMNxMMKQLbYub/CcIxTiSWkTYAOQlN8xnNHafSlFp8RLn4ybZVDBiooY+62WHwZWbfgcCCahMK5ur1XBv4RfGNMO6bsaiSllF2l/tuATK442rU6jCGzMDl+mxrCEuve15FwUo9hEycMFaxRR17MIfP+BG2W9nI1rcIRWwNCcIqqzBaP1P438Vn7c9u9JwIATeErkM4I2RV1Pkzzk32djqj4uENjNXeyUyXAIdRmla56jfjeKAQPeBMHEcJlB+c9z0mznp8Gx0eIB3MEv2JANObwMRGntjQIFe89ZC1Ly0y1PXNdk5MohcrxkqEYWPLmiSVzrIjT1srrHmsfZD9BHEhD31CNvCz2cVkI2eoy3LrzzxEr0dyenV4vL5k/8ID+KBkWOxXzWwPWZLauNVBGcXrBWeARQ4jKHcP93td51+EEZVpzmnBoRh3Bpy1u5KM8jTRoHiS+D5oe2dfSAjeziSnhf/ZNAH5uMV+q0XS20s7XZeLx48gdwv7cXchPUWLUrVzPz9mXFh1R5FvS0jBTt/KDF4Mm232n0qSauiefpVYeGPX7m6VsNQ6q5QSXAern/eetutzWmrWTr6xh9IApnhh5Oqgf5EO6stw4Enea/FT+rX/fDufYcGDPQ4Wg3gjprc580glBxzs0+ekD8GneDFWqHaJ5e5KFIqIdjf4PdEAF25YEenq8lSMZSjaqxcsxi8r7FXQo4SB1dbK4+w8ZbWdo2nBEWRhqqh0fzhw7jpwAWmQ2ntpCiyk8In/TdH8IHN8a+m7SOXt5YirPF1OzXsZsXWqni/Q8TPM6x5AhYVbzrZ8i8XKmGJ7GbQn15fKccdJo0ELGZnMCWuwynM3C5d0RAHmwV9Z5Jr/an1ioQUxHDX6a67p1zetaR7CKaCWVHjkAvWUtWTKOk4nTGOdsNhC18R07cLH+0HLifCRNA9b9aKYBNWEWDlGcmEtw+hK86ZIiI/HnTQR0LlCcfx+/eHYg9A1kRnsp+XvC1/5QknBJcEASDuurs8HQknd8f0YnPz++nqwUvd0uvuRnKa3CWvOcDvgWODpcoD7+GVIEMZofgfnCxMjbPn5ZSdynRfYEHN6cpruIMUGpAOnNwPAAfwosSECe954XdpxFdTAR4Q2LgpsrYUs2KdIUOEC1EdlIPFyrBkRCsxYAI386GCqPxp4YCPk63c/5LdQP7BPIWQDjvxZVMxksj3TEiJbv1UfKr4Z1AFh9Oxp+f91lny1CzNjlZFGYQG7zFAISJ0/6rwsD+k48rIJ7TS+zaISEH9kNEQEkTSr/v/LeAuBh6szTRVaK0iFfoiFvX2mPfEZiHDDTduqIhvE3tLUR9/6W4Sy2Y4ZdwhtIfDvv9jZ7WWTB/lsoyOaCVeapEJnmNgykruNL+cw4vJnlaUFz/50A/PsPqtLrsqbfyFPkNzmwnLyGT8kJVGoYUXwuQ/3wJ0jI+x1h8BWvS8UkkEeCIg/JraHnoJm9cjcLtFv7EmYSYMLPG+sMeBVfpAaoM+T2QlOgUDhUjstiHfyjICMqSucxV84BMswFpAjk6bxMECK8oAmEpic5mX+c2lqDrzPBZhRT27w7fcPNTcVrkQOTM6oXK4zmIiLRpODmFZDXq/RqBbjbuFPBBPoF+9spUqfndkDkWLm4ZQrjLnk6EoGisKCXCK4KRcaeP2yVG+05ZaxgCeTLCBU5oBgNE/o/TnD29quRxVrDnqRcPwwK0fpvlb0rjCs172Y1KDokUKQx98jV287FBhHwybA7JiynrRTf1RTvQv6JZSaabKLZy7gjld1rC78zk3pJ5JVEx4nTjmKZ0PVi2z02vvlDNn7jqnS7CZLKQqGTsbPYflAVQcj1kz4eGUxy8fwhhIy6hbhKJyNACkN3dzC01ldUFBq81kwjpaQs/Xm6wUMxAV9ZbT9SBROtBnyGW8fPqP3gHVZ/bOATch6pY8Lu9nDeVpMxl2HiMNn7NScmuqZ9u2pStXsCQ33vepMxpo1ka9b1HmgwoRWsXTbqhuM77eRS06aLqwjrF57A5YzG8npUMtKbLMcEFTfqPY4XDlksoCa3eA0mzDeHTZ4G+TBr5CH9YkZoKMZzkkauKwOjRtMvYxSOHfoyNFZbnI0hJFSx6qYGAMlFEakDoIu/P43xNrQpVsjsEqL1TvDd2kkYmUUop8rUtwRbpaKM9//NDZnZDWtjykH/2rxFbWoZqYhz2vvAceb/RQJtv63PZjE61lsDMzyT0Oh81OtoKG3676lWDjXxUlT7PLf24RCUI3AOvXzyB5ywPRZ54Vl3RlCSLYi6kppSDL9772b0zLA0sbSzM4vQ3/SIR4HtIxA1vfVDWZfZbM07N5v7YCk9K37PDxNbOrjkjDnnk0j5DY4NdkB1D+5pNWBMfBuSw6jsvh+Vc/x3LNJkUlcnG80dbaQP8iIC25ATD7V5eQfT+v3P5j+1yEEiGLQoZG67ZUb8/ObWdV5UIpvoePs2srDi8EI2QH2j8+EcWlNKCLyVfIfR+bcmZhJSbOkjHw0GCStCwvjdfzD4w8GjZ+yv0uxTQYTv5d74h8MDN2H71GCVfZ//3on9/+sF2Spm5PO6TWpDLbdmc1AZ7jb7vmCwQzmCmSZn92r9+q6+/ZNMD8TVEbYkq9UsU1eRteF8takvpG/JWqSuwhi6+DECnshNroUtGDjOoMGXT4sM4JLTz+a/tUjPIq4QNDby/d5MP+mIN9Zq6SA1vtgeN6MME6lzAf0JffXsrDaQjkAan8KxfvRd0CZCV1Gy2pk7C0DgN8mle8T/shvj9rQSsTarf1UPcH0otYuar6TlfwHTr2pNzkW6D3eqQFRhGjxr8hT9SpmxvqgfP717dcp5NLYnyRYiYJlBaefzX9qkZ6kmOYN5tUe9vy8InzshOPyGoP26sLIE7YvPmXnaqrOSdaUaUGVoRfoWqzCszxdhzpe+rG3KSiS0EedVpD5gjzTEaTjTDMfSK4zD0DB/zDgM2LKfpTFEzg5gD+VQ7AlecoPYx4Alx6PDILRKv0fe4Up21pyUjyX+PKJe2D5rZMy4L50lmyeOj+ilbZMCIyGFzxRwgF91u+f2jABZGY/mIVY12828zGr1Ee5Jc2C9tzL+/HGAukT8tkjpb+IvEIRUeAJchJaWzlRHNmMYhhUeAo/oc1tmCnssGYcPyPUzX4U6/3H8zNto1jKMeP/mhtFPuFBQz2N2FXMqjnXPlSEPD3xKVOLZsR5JG8sfe+lL1dpAu5lZDBHnfNz4sd/rmU+rDxFTWnV4XSOhsnCFc0CqiYFScRtCslDShsk66xwHv1ypmrM90qFiGX7x+aBEgYdMTnCJ6sHqmmtJJmx2wtG9EXyKJN5p0WjiudCAtaauxHtLeHfV68/nAAAAlEGaJGxL/4cAAJv+lgTt/iSEf+8JY28mfotqyCVqyx/u90ZMkU4/zD73FMZydTEIlkZdJEz/weo0OljEMeMaUSCWPdjPbj/lubBxghlyaK+dIIII8X8HDI3hXmjokV2OnCVppdpLNAkc15R+2A4BsPk+vExC8o7p+IYEPym8ktzuVTHrAwPLp8RslK4A4SG+jSYAA3oAAAAVQZ5CeIj/ACMgzYG6OJMMxMAAABWxAAAAFgGeYXRGfwApY8oC0ejRIoaKu4AAApoAAAAOAZ5jakZ/ABEXIwAAHTEAAAAVQZpoSahBaJlMCX+HAAADAAADAAZdAAAAD0GehkURLEcAAAMAAAMBdwAAAA4BnqV0Rn8AAAMAAAMBswAAAA4BnqdqRn8AAAMAAAMBswAAABVBmqxJqEFsmUwL/wAAAwAAAwAADAgAAAAPQZ7KRRUsRwAAAwAAAwF3AAAADgGe6XRGfwAAAwAAAwGzAAAADgGe62pGfwAAAwAAAwGzAAAAFUGa8EmoQWyZTA//AAADAAADAAAtoQAAAA9Bnw5FFSxHAAADAAADAXcAAAAOAZ8tdEZ/AAADAAADAbMAAAAOAZ8vakZ/AAADAAADAbMAAAAVQZs0SahBbJlMCv8AAAMAAAMAAF3AAAAAD0GfUkUVLEcAAAMAAAMBdwAAAA4Bn3F0Rn8AAAMAAAMBswAAAA4Bn3NqRn8AAAMAAAMBswAABJ9Bm3VJqEFsmUwJPwAATHtzSUjRGHvNv/XsJ7fSj6OM3PIAWwP//TQJ9V1GPKJgXJejCX1bRNhi4CeOaAXC58mOROGziVG9srwNwzWhuuAAABG/MxmD7R54EH4LS4kO+rkJGQnev84ukNA4N/YpqHFIgzSwsb03kEcDvBlCT2/fl/Nt/j67JvVE/Feh80pBXN4Tg66R6VzwROrNO0Z3khpjxFO7Qe8wzKxBgswu6uNHWglkdEwkIxYXGueqhHoT/th9nZT0FcFnaGZnrtcrlyUKabE2KvKhgOHH+Z+MYVWrjwbeKrICnKQ1mQ6zPbrxD7yFp0kJnBsclkmcRFvuE9xfVABX5j1ZCr1ctmveF4MrFpmX8a0t+A+igXqkjACYtI0AR0ltf58NdDPAHU+rCzay7WfoDlN5SqmeWrhwtuZkn7wBLNasfj0Qt9B6lkRFOygH//AS9vh8FSnrj6a+TRm4iw8sJsOp1cxgdi5XhiGn3xT0tSSK6WEIVrnhUho4VRNVxl2rNVeegsmoKfZzTUhtE6tBS9IfrWG/qSH4b0l1jx9weffukjlIAcA6jvDBCPfbYMrp3tZoV5rZZQXXi0OpXI6FhCxKK0mY2sB9gS42untAh6Vwn26AMyWLdpmBOoPBq9QIFBVq+I8qwR49oDJjIY6iZHHCKWQ/U5hv2XZc6PGOGg3gxTI3B1xO7XRuSKVlOlCB7YylH5ZbZ+8ZB75lT+L+WSkXX1QRpjjL8BMGgpsg+wbuJ0dCsmRrVV2fqioKjFcxLdLcuNk8irXl23r6/xMiLSJ4E4SRDGKfiWutyPCdBSXzpx0omi51wyyNGWqocEAnsJb9Zzs3v7mZKq2gV9oowIB7YMYFCUUo4K7ItFZL+VDYzQSDnMjtlL/r72zEMNEFSZPRxhKPRvysW6YCgf3uYr4CCUB5IVcSsWH+Hx0L73OtxDYdXwh/6yhcfFh6js+hPst7QUhuxizni/MwMr+/aWuQuDWRFud5FtPOaR53NLh3/6+ObpHAu3SR7/eLtHshhZxwLCDkExCjhXPDnr9q/27/LXB5xox3Os0Go9pOCc7UNDczTMASzz9HQD4cG3GlH3S+LgqNSr/jSGMvi3GtM8afc2q1hL1k5CoP/HsFpbUD0A65znecblJ2nka4ylKsoc7iDCGr3He5lv4lo3GKJY+XcMx/CpqBzHE+EJXZCRJWSxd54dOOvt5pIiu1AC5y2yuahKIJze4jVrd2gOCXPTIib+lh8nt9vXIidR/ZC7f7dBxpgvbZl39n8QpmRy3mSDD+2OOlgajI++3rKafu28g1/oQ2VOfAaX00WKCfSdJ8+FP+Y5cCk3IJveTqwvdxyk5mMaHixNxPHdmhoZ0wQj5mdTesKJ4km3POycaTunycZ5G+Rsbv4Gu5/4fIiEJaHB72heLciIGXvsm7zZQGLpQK8vHOsGbKy7QdUq1VqhFGSPdCxIE2AZzS7hzGP10KySbHAi8YYxNhftLwWgicrISC8eo4E48K1kwzu6+kWe1rJ0OhRnQbt1opFfZMC2jE2bAUaLCEphMmh7uZ5Z5Qyyi5QK3cDLGAAGBBAAADZUGblknhClJlMCb/AAAuvfotFlOBXj/n/hUZo6/fq5uuc0++GnS46UUxGGDTfa3dLz5GdDR/bZDhp33U0u9AcUn6U4hiTa6TcwcqCQ9w5sPKVZpDR+9wVgFq1PoA2z/ca32JXsqs6ejqSMYDp+KPkxtbN2K1xiiXINXY4Xw/dZMyVlc/IK2z9S7wbbjjsBnH0q787MZi4ROdk3vcacHHkMUUWGYccUIGl1pkudVncrkGNjlr73Sn8IgtYDWRWNOeiVySQdPOqLV0rlvsfQGYBrn2MsfEr3mo5iteYxKW31LJN/pZ4nfZ2w2pv4qLPyjAERmUD1qRgnvxw++1R81dDA2B114YDxJJd4wv/HdpQAB3FV62wki+9aKbljU1jW4BRiuDwU2IxVqUj8i5DjnvIIyBGH+dvqxyRW6aB0dSJzwF8mzgdDR+nuq5Hld/zcDH0qcUW7QrN49VFldx1f4+2qGMnzSiSqwo8ffBNXyhF9/db6VGItPPhbEjlU4Lpp/ltRlX6kHwK71k9G3nv4hM1skXPVuwaTnl2/NH3wCPaSM5cQ0EvbkQV8jk8NP5b9GJ/HF6FJ+ROTuWt03JFxvT8u/mZnQmVqlgwfFwUjOUX6XTHxQ0hza/txvyMDrPXpgPOv53quhxEY3Spoj3XrmrS2E0uL+7oSa51DHpNHlnKWtfkiKeQ568SMA7evYwwB71bcG6Z+3LVgWYTZvjFBMXJw0n/g5XxByGNSZ1nOjIuZNcJGf2YJeW+QbYxf3Q0PRRdt3gcB39OAT+B7DN4siPfY5zmM5HLLr724n8J9QWDJZE9XVBp+EEC5JkP+n59mabcRyzOiraOsqR03ORQyhEBMlpcUdRMdKF1MTmIHhMnmRUG1Qd1yTzSIfJd6F7oMjtDLACJgBKoMLb6Rgh5l4Pvj2qvxg9dg14wrbnsi99RorGgD9O5u1bB6CFvAg7ows/o8TsM6WFj6W9e9IPQBtiXJFRCbS0oAFaNQkB7wT1QmwCO78qFd6SOiO0KPu8WIsqzmSUVDbNoGcphjf8lX2o8l20JK2GZr7dMgQBrYVlh4x7ilor5lMvHf4XiCe8A4UMuyhWSLyRNbbIDIpg5YK6Te9yZ/d8t/YG9T80/mkOa7HB0eXLgIplgTvP1/qF4s+g4A3AALKAAAADSEGbt0nhDomUwIj/AABneyk+PZxf+q8EX//NgHqmfIbHwaURnjgwe1K0whNTBCsz+o9gKA/hAZ1JfoihRSyqSNYQI+lwQtV/gApvwMo0yLHmG/CeWr3/6YunMm7PSASRJsukwQCCiQHbGb3TTmVPDSBSann9suEWOkIhWUp936RJLkM6x3HQ/z47DwRKPBRjNh9L6k9TFXqtd2NwTcfCDNjafaYUWYLvGh98N3mRer9AErwgIgFNyXzM9t6Mkq5QyHpNgZU7e3zfvGlj8t82qW6v8lSp3n16sAw8PDu4kKwnIR8ugV51T1FaWI39AU+RgR1v7OUj2+Yb1fDdEtzcP0jQhTR0sq4KNtt1syesP0/Q48bL3n12GIXHGpwKnCfnA3t2KSRMWP610UHzf5qpt1uR9DnXDQhUf/UejeaUoy/7k6woc7/2oVJd9aCqYRAqrU7EQMgZPdt5rRBapjzXcehQV1y28G8WOGGvrQnuiG1hP6RI51UxwNnwPPIldaWFPaWwAAmmvma2zFwDwuqTQ6xLjXCn3XYZ+1erA2ql5c/Jj1Glc8+GF3AH+2/LKES+FmDHhkmUWCgxeCjN9T86/IGixUhs/6slbRMIyzFCnw5qnejSy8ZMwgTtWPQC6vbs/gwPN7lgBgQUNb5hTZbBiwS+qOrorKLi9FLgSL0FTkI3uFCgIIMesjMzxhM8OwsQgY9CiK3R+lPh3Lr08a1UHDdEQqVPQoDDulJe+6YZs+Si/5NBE/aRoabdTqE9aqJCZy1qudVm8i0iakTeDyW0GAD9APNz2J/DtVvr/Bkd6mzTnrs8LfxeuWapnqmbW1f7kRtp/e+varlMcABveidkUl9MnOM8hvj/BISpjgquPYceNkw3YAzfPzZPKXGx6yL47sZyxFKUdmgZ6d0daATBFgjIupLCM5dAQvq30aAegvOiKDTHuQ46G9gPlN1Qj2Im+OcZWIqemNNu/0m5fwODT+tVfjBKSS+LzaePpRDgpZ/KirnbCnQBAk7292eNnG8SxK0hYKbBm7T8u4fzpGhJlXGt6KtYQHMbgC6BHLX+w5BpBAWgoIzuh0smob++fMHF4AFzAAFe/4CWvfeuD+qDqiTmCeNS03ABQQAAA6BBm9hJ4Q8mUwIz/wABQvUT5161HDoS6GLG3Vi4erMpTNtJuABSnFzdLKPrCrcqTFC3QWp/v6KCVxrrkxv7ljkGOdhQ49SB6tb61l/q7GIIOA1ft84vl+s/WvqcKLqtzzqbNid7/GiyGSIvHvTIEjej7pDGk6fvPY0GMMq0HHH93B5rfGDyAvbe9ivhpn8rP2ZLeoOWdjhXhMcYXxSEabKySOY8erHUVFLUzeUx9j+Awxtap+kd7pVgLL2fmRuHo0zbKv4D+ftIVZ3SUYPvUAl9PPvkCokEQ89wrLPN33fUwkRj79izlWXpym4N487RgMeIEXCLGUbP2GaLaQKch3zOznV+/Qh8eNOMFZgBaJXYE2hMo86lKheK3hiq8aKEIOlT4BtsnYzA1iQOWNDYEe6MXMrN8u5NW3oX/39d9BWhZPYjPPWUVzetAq359hqh+VvZW6Je4Bhm01bTwIQffvrOVdpZTxKe4u8KxnRJNpokx5bCW6Vi2O7pvj/5CiRZjfI77RNqeluFGSMNYd2L5akGhFnFbFzw8lOZ6DuiU10+ciVEEQ7W4CJZ+b0d6yf6bxOxNvg+Ge9mwItC+OwGhYyMSK6EUqbGOxEAmvsYkyS/5dhPRVVOuspzsAnvjjT7j+TAr2+gST1FG0F4KtJM5qarsENmsmJ4AKkzYqQwox62XDpICVcncZ4cdV67uAa70r2Nwz78n8fEb9utKUJTm+nmF6phumPjN+b/W4W27FQm7HqFeUwYvwS5WRSoZ9SGbAjnOmQdUd+NKrZjmsxe7t4fJZQ4wtIOpX/3yLgUS3XAjWWQwUp4WG9s7qqJgN9pzw8Znx3uoH3pbnF7ucu3qJ2DqmWwPWAlJi3SrZBkv7q3Zwsyctj9Q6HzW846DfhdAUiFsgEB173z21IXOWfViLjwJ1tFwg5I2QYh4U9HG1vpt3XiYn9MN8b5BaIt7LPATlnv/hddfCCSsF8fqpreSwvhTyIcF5bHcTIxkiKLlga4JujmaSvI+eOkr/HeoAYf0lidf/FFNj37w/P6VXp2N7HcIyk/p5GrGLJlRJvRmVn9DX9s5b6cVWO9OaK/5kmYiR6+XoZLtve89EudG+s0QRjFE1lr3vsrmU8+rJgA5psLVTt03JGml2COtGcu/Mmai0wWGM6o6f07jHpYFGkTh6M8yfIGL45B2wyJDHAIjR8NSrpXhqXQRv/r4ShjKSOc8GY1SMXRiYV/5VSdYCe/fAO7AAAEP21vb3YAAABsbXZoZAAAAAAAAAAAAAAAAAAAA+gAABhqAAEAAAEAAAAAAAAAAAAAAAABAAAAAAAAAAAAAAAAAAAAAQAAAAAAAAAAAAAAAAAAQAAAAAAAAAAAAAAAAAAAAAAAAAAAAAAAAAAAAAAAAAIAAANpdHJhawAAAFx0a2hkAAAAAwAAAAAAAAAAAAAAAQAAAAAAABhqAAAAAAAAAAAAAAAAAAAAAAABAAAAAAAAAAAAAAAAAAAAAQAAAAAAAAAAAAAAAAAAQAAAAAIAAAACAAAAAAAAJGVkdHMAAAAcZWxzdAAAAAAAAAABAAAYagAAIAAAAQAAAAAC4W1kaWEAAAAgbWRoZAAAAAAAAAAAAAAAAAAAQAAAAZAAVcQAAAAAAC1oZGxyAAAAAAAAAAB2aWRlAAAAAAAAAAAAAAAAVmlkZW9IYW5kbGVyAAAAAoxtaW5mAAAAFHZtaGQAAAABAAAAAAAAAAAAAAAkZGluZgAAABxkcmVmAAAAAAAAAAEAAAAMdXJsIAAAAAEAAAJMc3RibAAAALBzdHNkAAAAAAAAAAEAAACgYXZjMQAAAAAAAAABAAAAAAAAAAAAAAAAAAAAAAIAAgAASAAAAEgAAAAAAAAAAQAAAAAAAAAAAAAAAAAAAAAAAAAAAAAAAAAAAAAAAAAAABj//wAAADZhdmNDAWQAFv/hABlnZAAWrNlAgBBoQAAAAwBAAAADAgPFi2WAAQAGaOvjyyLA/fj4AAAAABRidHJ0AAAAAAAAJqcAACanAAAAGHN0dHMAAAAAAAAAAQAAABkAABAAAAAAFHN0c3MAAAAAAAAAAQAAAAEAAADAY3R0cwAAAAAAAAAWAAAAAQAAIAAAAAABAABQAAAAAAEAACAAAAAAAQAAAAAAAAABAAAQAAAAAAEAAFAAAAAAAQAAIAAAAAABAAAAAAAAAAEAABAAAAAAAQAAUAAAAAABAAAgAAAAAAEAAAAAAAAAAQAAEAAAAAABAABQAAAAAAEAACAAAAAAAQAAAAAAAAABAAAQAAAAAAEAAFAAAAAAAQAAIAAAAAABAAAAAAAAAAEAABAAAAAABAAAIAAAAAAcc3RzYwAAAAAAAAABAAAAAQAAABkAAAABAAAAeHN0c3oAAAAAAAAAAAAAABkAAA0aAAAAmAAAABkAAAAaAAAAEgAAABkAAAATAAAAEgAAABIAAAAZAAAAEwAAABIAAAASAAAAGQAAABMAAAASAAAAEgAAABkAAAATAAAAEgAAABIAAASjAAADaQAAA0wAAAOkAAAAFHN0Y28AAAAAAAAAAQAAADAAAABidWR0YQAAAFptZXRhAAAAAAAAACFoZGxyAAAAAAAAAABtZGlyYXBwbAAAAAAAAAAAAAAAAC1pbHN0AAAAJal0b28AAAAdZGF0YQAAAAEAAAAATGF2ZjU4Ljc2LjEwMA==\" type=\"video/mp4\" />\n",
              "                </video>"
            ]
          },
          "metadata": {}
        }
      ]
    },
    {
      "cell_type": "markdown",
      "source": [
        "## Q-Learning on `GridWorldBlindEnemyEnv` or `GridWorldOracleEnemyEnv`\n",
        "\n",
        "The task is to train our virtual agent with Q-Learning on one of the two custom environments previously created.\n",
        "Analyze the results concerning different hyper-parameters of the algorithm (e.g., impact of learning rate, discount factor, etc.).\n",
        "\n",
        "Note:\n",
        "- The Q-table should be initialized in a different way since the state now should contain additional information (e.g., the position of the enemy)\n",
        "- The Q-learning loop should be updated to handle the changes applied to the Q-table\n"
      ],
      "metadata": {
        "id": "j4qy_-GXcKjw"
      }
    },
    {
      "cell_type": "code",
      "source": [
        "class GridWorldBlindEnemyEnv(gym.Env):\n",
        "    metadata = {\"render_modes\": [\"human\", \"rgb_array\"], \"render_fps\": 4}\n",
        "\n",
        "    def __init__(self, render_mode=None, size=5):\n",
        "        self.size = size  # The size of the square grid\n",
        "        self.window_size = 512  # The size of the PyGame window\n",
        "\n",
        "        # Observations are dictionaries with the agent's and the target's location.\n",
        "        # Each location is encoded as an element of {0, ..., `size`}^2, i.e. MultiDiscrete([size, size]).\n",
        "        self.observation_space = spaces.Dict(\n",
        "            {\n",
        "                \"agent\": spaces.Box(0, size - 1, shape=(2,), dtype=int),\n",
        "                \"enemy\": spaces.Box(0, size - 1, shape=(2,), dtype=int),\n",
        "                \"target\": spaces.Box(0, size - 1, shape=(2,), dtype=int),\n",
        "            }\n",
        "        )\n",
        "\n",
        "        # We have 4 actions, corresponding to \"right\", \"up\", \"left\", \"down\"\n",
        "        self.action_space = spaces.Discrete(4)\n",
        "\n",
        "        \"\"\"\n",
        "        The following dictionary maps abstract actions from `self.action_space` to\n",
        "        the direction we will walk in if that action is taken.\n",
        "        I.e. 0 corresponds to \"right\", 1 to \"up\" etc.\n",
        "        \"\"\"\n",
        "        self._action_to_direction = {\n",
        "            0: np.array([1, 0]),\n",
        "            1: np.array([0, 1]),\n",
        "            2: np.array([-1, 0]),\n",
        "            3: np.array([0, -1]),\n",
        "        }\n",
        "\n",
        "        assert render_mode is None or render_mode in self.metadata[\"render_modes\"]\n",
        "        self.render_mode = render_mode\n",
        "\n",
        "        \"\"\"\n",
        "        If human-rendering is used, `self.window` will be a reference\n",
        "        to the window that we draw to. `self.clock` will be a clock that is used\n",
        "        to ensure that the environment is rendered at the correct framerate in\n",
        "        human-mode. They will remain `None` until human-mode is used for the\n",
        "        first time.\n",
        "        \"\"\"\n",
        "        self.window = None\n",
        "        self.clock = None\n",
        "\n",
        "    # Private method to get observations\n",
        "    def _get_obs(self):\n",
        "        return {\"agent\": self._agent_location, \"enemy\": self._enemy_location, \"target\": self._target_location}\n",
        "\n",
        "    # Private method to get info\n",
        "    def _get_info(self):\n",
        "        return {\"distance\": np.linalg.norm(self._agent_location - self._target_location, ord=1)}\n",
        "\n",
        "    # Reset method for the environment\n",
        "    def reset(self, seed=None, options=None):\n",
        "        # We need the following line to seed self.np_random\n",
        "        super().reset(seed=seed)\n",
        "\n",
        "        # Choose the agent's location uniformly at random\n",
        "        self._agent_location = self.np_random.integers(0, self.size, size=2, dtype=int)\n",
        "\n",
        "        # We will sample the target's location randomly until it does not coincide with the agent's location\n",
        "        self._target_location = self._agent_location\n",
        "        while np.array_equal(self._target_location, self._agent_location):\n",
        "            self._target_location = self.np_random.integers(\n",
        "                0, self.size, size=2, dtype=int\n",
        "            )\n",
        "\n",
        "        # We will sample the enemy's location randomly until it does not coincide\n",
        "        #   with the agent's location or the target location\n",
        "        self._enemy_location = self._agent_location\n",
        "        while (np.array_equal(self._enemy_location, self._agent_location) or\n",
        "               np.array_equal(self._enemy_location, self._target_location)):\n",
        "            self._enemy_location = self.np_random.integers(\n",
        "                0, self.size, size=2, dtype=int\n",
        "            )\n",
        "\n",
        "        observation = self._get_obs()\n",
        "        info = self._get_info()\n",
        "\n",
        "        if self.render_mode == \"human\":\n",
        "            self._render_frame()\n",
        "\n",
        "        return observation, info\n",
        "\n",
        "    # Step method for the environment\n",
        "    def step(self, action):\n",
        "        # Map the action (element of {0,1,2,3}) to the direction we walk in\n",
        "        direction = self._action_to_direction[action]\n",
        "        # We use `np.clip` to make sure we don't leave the grid\n",
        "        self._agent_location = np.clip(\n",
        "            self._agent_location + direction, 0, self.size - 1\n",
        "        )\n",
        "\n",
        "        # enemy moves randomly\n",
        "        enemy_action = self.action_space.sample()\n",
        "        enemy_direction = self._action_to_direction[enemy_action]\n",
        "        # We use `np.clip` to make sure we don't leave the grid\n",
        "        _new_enemy_location = np.clip(\n",
        "            self._enemy_location + enemy_direction, 0, self.size - 1\n",
        "        )\n",
        "\n",
        "        if not np.array_equal(_new_enemy_location, self._target_location):\n",
        "          self._enemy_location = _new_enemy_location\n",
        "\n",
        "        # An episode is done iff the agent has reached the target or the enemy\n",
        "        #   catches the agent\n",
        "        if np.array_equal(self._agent_location, self._target_location):\n",
        "          terminated = True\n",
        "          reward = 1\n",
        "        elif np.array_equal(self._agent_location, self._enemy_location): # enemy = target\n",
        "          terminated = True\n",
        "          reward = -1\n",
        "        else: # game goes on (reward = 0)\n",
        "          terminated = False\n",
        "          reward = 0\n",
        "\n",
        "        observation = self._get_obs()\n",
        "        info = self._get_info()\n",
        "\n",
        "        if self.render_mode == \"human\":\n",
        "            self._render_frame()\n",
        "\n",
        "        return observation, reward, terminated, False, info\n",
        "\n",
        "    # Render method for visualization\n",
        "    def render(self):\n",
        "        if self.render_mode == \"rgb_array\":\n",
        "            return self._render_frame()\n",
        "\n",
        "    def _render_frame(self):\n",
        "        if self.window is None and self.render_mode == \"human\":\n",
        "            pygame.init()\n",
        "            pygame.display.init()\n",
        "            self.window = pygame.display.set_mode((self.window_size, self.window_size))\n",
        "        if self.clock is None and self.render_mode == \"human\":\n",
        "            self.clock = pygame.time.Clock()\n",
        "\n",
        "        canvas = pygame.Surface((self.window_size, self.window_size))\n",
        "        canvas.fill((255, 255, 255))\n",
        "        pix_square_size = (\n",
        "            self.window_size / self.size\n",
        "        )  # The size of a single grid square in pixels\n",
        "\n",
        "        # First we draw the target\n",
        "        pygame.draw.rect(\n",
        "            canvas,\n",
        "            (255, 0, 0),\n",
        "            pygame.Rect(\n",
        "                pix_square_size * self._target_location,\n",
        "                (pix_square_size, pix_square_size),\n",
        "            ),\n",
        "        )\n",
        "        # Now we draw the agent\n",
        "        pygame.draw.circle(\n",
        "            canvas,\n",
        "            (0, 0, 255),\n",
        "            (self._agent_location + 0.5) * pix_square_size,\n",
        "            pix_square_size / 3,\n",
        "        )\n",
        "\n",
        "        # Now we draw the enemy\n",
        "        pygame.draw.circle(\n",
        "            canvas,\n",
        "            (0, 255, 0),\n",
        "            (self._enemy_location + 0.5) * pix_square_size,\n",
        "            pix_square_size / 3,\n",
        "        )\n",
        "\n",
        "        # Finally, add some gridlines\n",
        "        for x in range(self.size + 1):\n",
        "            pygame.draw.line(\n",
        "                canvas,\n",
        "                0,\n",
        "                (0, pix_square_size * x),\n",
        "                (self.window_size, pix_square_size * x),\n",
        "                width=3,\n",
        "            )\n",
        "            pygame.draw.line(\n",
        "                canvas,\n",
        "                0,\n",
        "                (pix_square_size * x, 0),\n",
        "                (pix_square_size * x, self.window_size),\n",
        "                width=3,\n",
        "            )\n",
        "\n",
        "        if self.render_mode == \"human\":\n",
        "            # The following line copies our drawings from `canvas` to the visible window\n",
        "            self.window.blit(canvas, canvas.get_rect())\n",
        "            pygame.event.pump()\n",
        "            pygame.display.update()\n",
        "\n",
        "            # We need to ensure that human-rendering occurs at the predefined framerate.\n",
        "            # The following line will automatically add a delay to keep the framerate stable.\n",
        "            self.clock.tick(self.metadata[\"render_fps\"])\n",
        "        else:  # rgb_array\n",
        "            return np.transpose(\n",
        "                np.array(pygame.surfarray.pixels3d(canvas)), axes=(1, 0, 2)\n",
        "            )"
      ],
      "metadata": {
        "id": "VBzCQc06cKjx"
      },
      "execution_count": null,
      "outputs": []
    },
    {
      "cell_type": "code",
      "metadata": {
        "id": "2fBQ8U3taQjC"
      },
      "source": [
        "class GridWorldOracleEnemyEnv(gym.Env):\n",
        "    metadata = {\"render_modes\": [\"human\", \"rgb_array\"], \"render_fps\": 4}\n",
        "\n",
        "    def __init__(self, render_mode=None, size=5):\n",
        "        self.size = size  # The size of the square grid\n",
        "        self.window_size = 512  # The size of the PyGame window\n",
        "\n",
        "        # Observations are dictionaries with the agent's and the target's location.\n",
        "        # Each location is encoded as an element of {0, ..., `size`}^2, i.e. MultiDiscrete([size, size]).\n",
        "        self.observation_space = spaces.Dict(\n",
        "            {\n",
        "                \"agent\": spaces.Box(0, size - 1, shape=(2,), dtype=int),\n",
        "                \"enemy\": spaces.Box(0, size - 1, shape=(2,), dtype=int),\n",
        "                \"target\": spaces.Box(0, size - 1, shape=(2,), dtype=int),\n",
        "            }\n",
        "        )\n",
        "\n",
        "        # We have 4 actions, corresponding to \"right\", \"up\", \"left\", \"down\"\n",
        "        self.action_space = spaces.Discrete(4)\n",
        "\n",
        "        \"\"\"\n",
        "        The following dictionary maps abstract actions from `self.action_space` to\n",
        "        the direction we will walk in if that action is taken.\n",
        "        I.e. 0 corresponds to \"right\", 1 to \"up\" etc.\n",
        "        \"\"\"\n",
        "        self._action_to_direction = {\n",
        "            0: np.array([1, 0]),\n",
        "            1: np.array([0, 1]),\n",
        "            2: np.array([-1, 0]),\n",
        "            3: np.array([0, -1]),\n",
        "        }\n",
        "\n",
        "        assert render_mode is None or render_mode in self.metadata[\"render_modes\"]\n",
        "        self.render_mode = render_mode\n",
        "\n",
        "        \"\"\"\n",
        "        If human-rendering is used, `self.window` will be a reference\n",
        "        to the window that we draw to. `self.clock` will be a clock that is used\n",
        "        to ensure that the environment is rendered at the correct framerate in\n",
        "        human-mode. They will remain `None` until human-mode is used for the\n",
        "        first time.\n",
        "        \"\"\"\n",
        "        self.window = None\n",
        "        self.clock = None\n",
        "\n",
        "    # Private method to get observations\n",
        "    def _get_obs(self):\n",
        "        return {\"agent\": self._agent_location, \"enemy\": self._enemy_location, \"target\": self._target_location}\n",
        "\n",
        "    # Private method to get info\n",
        "    def _get_info(self):\n",
        "        return {\"distance\": np.linalg.norm(self._agent_location - self._target_location, ord=1)}\n",
        "\n",
        "    # Reset method for the environment\n",
        "    def reset(self, seed=None, options=None):\n",
        "        # We need the following line to seed self.np_random\n",
        "        super().reset(seed=seed)\n",
        "\n",
        "        # Choose the agent's location uniformly at random\n",
        "        self._agent_location = self.np_random.integers(0, self.size, size=2, dtype=int)\n",
        "\n",
        "        # We will sample the target's location randomly until it does not coincide with the agent's location\n",
        "        self._target_location = self._agent_location\n",
        "        while np.array_equal(self._target_location, self._agent_location):\n",
        "            self._target_location = self.np_random.integers(\n",
        "                0, self.size, size=2, dtype=int\n",
        "            )\n",
        "\n",
        "        # We will sample the enemy's location randomly until it does not coincide\n",
        "        #   with the agent's location or the target location\n",
        "        self._enemy_location = self._agent_location\n",
        "        while (np.array_equal(self._enemy_location, self._agent_location) or\n",
        "               np.array_equal(self._enemy_location, self._target_location)):\n",
        "            self._enemy_location = self.np_random.integers(\n",
        "                0, self.size, size=2, dtype=int\n",
        "            )\n",
        "\n",
        "        observation = self._get_obs()\n",
        "        info = self._get_info()\n",
        "\n",
        "        if self.render_mode == \"human\":\n",
        "            self._render_frame()\n",
        "\n",
        "        return observation, info\n",
        "\n",
        "    # Step method for the environment\n",
        "    def step(self, action):\n",
        "        # Map the action (element of {0,1,2,3}) to the direction we walk in\n",
        "        direction = self._action_to_direction[action]\n",
        "        # We use `np.clip` to make sure we don't leave the grid\n",
        "        self._agent_location = np.clip(\n",
        "            self._agent_location + direction, 0, self.size - 1\n",
        "        )\n",
        "\n",
        "        if np.array_equal(self._agent_location, self._enemy_location): # enemy = target\n",
        "          # in this case the agent walked onto the field of the enemy, and the enemy should not move.\n",
        "          # -> the agent lost.\n",
        "          pass\n",
        "\n",
        "        else:\n",
        "          # enemy moves knowledgably\n",
        "          current_manhattan_distance = np.linalg.norm(self._agent_location - self._enemy_location, ord=1)\n",
        "          enemy_action = self.action_space.sample()\n",
        "          enemy_direction = self._action_to_direction[enemy_action]\n",
        "          # We use `np.clip` to make sure we don't leave the grid\n",
        "          _new_enemy_location = np.clip(\n",
        "              self._enemy_location + enemy_direction, 0, self.size - 1\n",
        "          )\n",
        "\n",
        "          new_manhattan_distance = np.linalg.norm(self._agent_location - _new_enemy_location, ord=1)\n",
        "\n",
        "          current_iter = 0\n",
        "          while (new_manhattan_distance >= current_manhattan_distance or\n",
        "                 np.array_equal(_new_enemy_location, self._target_location) or\n",
        "                 current_iter > 5):\n",
        "            enemy_action = self.action_space.sample()\n",
        "            enemy_direction = self._action_to_direction[enemy_action]\n",
        "            # We use `np.clip` to make sure we don't leave the grid\n",
        "            _new_enemy_location = np.clip(\n",
        "                self._enemy_location + enemy_direction, 0, self.size - 1\n",
        "            )\n",
        "            new_manhattan_distance = np.linalg.norm(self._agent_location - _new_enemy_location, ord=1)\n",
        "            #print(self._agent_location, self._enemy_location, _new_enemy_location, self._target_location)\n",
        "            current_iter += 1\n",
        "\n",
        "          if current_iter > 5:\n",
        "            # in this case the enemy could be on the target, so instead we choose\n",
        "            # the action to not move at all, so do not update the enemy location.\n",
        "            pass\n",
        "          else:\n",
        "            self._enemy_location = _new_enemy_location\n",
        "\n",
        "        # An episode is done iff the agent has reached the target or the enemy\n",
        "        #   catches the agent\n",
        "        if np.array_equal(self._agent_location, self._target_location):\n",
        "          terminated = True\n",
        "          reward = 1\n",
        "        elif np.array_equal(self._agent_location, self._enemy_location): # enemy = target\n",
        "          terminated = True\n",
        "          reward = -1\n",
        "        else: # game goes on (reward = 0)\n",
        "          terminated = False\n",
        "          reward = 0\n",
        "\n",
        "        observation = self._get_obs()\n",
        "        info = self._get_info()\n",
        "\n",
        "        if self.render_mode == \"human\":\n",
        "            self._render_frame()\n",
        "\n",
        "        return observation, reward, terminated, False, info\n",
        "\n",
        "    # Render method for visualization\n",
        "    def render(self):\n",
        "        if self.render_mode == \"rgb_array\":\n",
        "            return self._render_frame()\n",
        "\n",
        "    def _render_frame(self):\n",
        "        if self.window is None and self.render_mode == \"human\":\n",
        "            pygame.init()\n",
        "            pygame.display.init()\n",
        "            self.window = pygame.display.set_mode((self.window_size, self.window_size))\n",
        "        if self.clock is None and self.render_mode == \"human\":\n",
        "            self.clock = pygame.time.Clock()\n",
        "\n",
        "        canvas = pygame.Surface((self.window_size, self.window_size))\n",
        "        canvas.fill((255, 255, 255))\n",
        "        pix_square_size = (\n",
        "            self.window_size / self.size\n",
        "        )  # The size of a single grid square in pixels\n",
        "\n",
        "        # First we draw the target\n",
        "        pygame.draw.rect(\n",
        "            canvas,\n",
        "            (255, 0, 0),\n",
        "            pygame.Rect(\n",
        "                pix_square_size * self._target_location,\n",
        "                (pix_square_size, pix_square_size),\n",
        "            ),\n",
        "        )\n",
        "        # Now we draw the agent\n",
        "        pygame.draw.circle(\n",
        "            canvas,\n",
        "            (0, 0, 255),\n",
        "            (self._agent_location + 0.5) * pix_square_size,\n",
        "            pix_square_size / 3,\n",
        "        )\n",
        "\n",
        "        # Now we draw the enemy\n",
        "        pygame.draw.circle(\n",
        "            canvas,\n",
        "            (0, 255, 0),\n",
        "            (self._enemy_location + 0.5) * pix_square_size,\n",
        "            pix_square_size / 3,\n",
        "        )\n",
        "\n",
        "        # Finally, add some gridlines\n",
        "        for x in range(self.size + 1):\n",
        "            pygame.draw.line(\n",
        "                canvas,\n",
        "                0,\n",
        "                (0, pix_square_size * x),\n",
        "                (self.window_size, pix_square_size * x),\n",
        "                width=3,\n",
        "            )\n",
        "            pygame.draw.line(\n",
        "                canvas,\n",
        "                0,\n",
        "                (pix_square_size * x, 0),\n",
        "                (pix_square_size * x, self.window_size),\n",
        "                width=3,\n",
        "            )\n",
        "\n",
        "        if self.render_mode == \"human\":\n",
        "            # The following line copies our drawings from `canvas` to the visible window\n",
        "            self.window.blit(canvas, canvas.get_rect())\n",
        "            pygame.event.pump()\n",
        "            pygame.display.update()\n",
        "\n",
        "            # We need to ensure that human-rendering occurs at the predefined framerate.\n",
        "            # The following line will automatically add a delay to keep the framerate stable.\n",
        "            self.clock.tick(self.metadata[\"render_fps\"])\n",
        "        else:  # rgb_array\n",
        "            return np.transpose(\n",
        "                np.array(pygame.surfarray.pixels3d(canvas)), axes=(1, 0, 2)\n",
        "            )\n",
        "\n"
      ],
      "execution_count": null,
      "outputs": []
    },
    {
      "cell_type": "code",
      "source": [
        "grid_size = 5\n",
        "gwenv = GridWorldBlindEnemyEnv(render_mode='rgb_array', size=grid_size)"
      ],
      "metadata": {
        "id": "NAewy0JCQ4Q1"
      },
      "execution_count": null,
      "outputs": []
    },
    {
      "cell_type": "code",
      "source": [
        "def initializeQ(gwenv):\n",
        "  Q = np.zeros((gwenv.size, gwenv.size,   # x and y for agent\n",
        "                gwenv.size, gwenv.size,   # x and y for target\n",
        "                gwenv.size, gwenv.size,   # x and y for enemy\n",
        "                gwenv.action_space.n))    # actions\n",
        "  return Q"
      ],
      "metadata": {
        "id": "G8aJtCnGRefc"
      },
      "execution_count": null,
      "outputs": []
    },
    {
      "cell_type": "code",
      "source": [
        "def run_episode_gwenv(env, Q, lr, discount, epsilon=0.1, render=False, _maxsteps=15, optimal=False):\n",
        "\n",
        "  observation, _ = env.reset()\n",
        "  done = False\n",
        "  nsteps = 0\n",
        "\n",
        "  for x in range(_maxsteps):\n",
        "\n",
        "    nsteps += 1\n",
        "\n",
        "    if done:\n",
        "      break\n",
        "\n",
        "    if render:\n",
        "      env.render()\n",
        "\n",
        "    curr_state = observation\n",
        "\n",
        "\t\t# handle multi dims of Q table\n",
        "    ax = curr_state['agent'][0]\n",
        "    ay = curr_state['agent'][1]\n",
        "    ex = curr_state['enemy'][0]\n",
        "    ey = curr_state['enemy'][1]\n",
        "    tx = curr_state['target'][0]\n",
        "    ty = curr_state['target'][1]\n",
        "\n",
        "\t\t# training time\n",
        "    if not optimal:\n",
        "\n",
        "      # Epsilon-greedy policy\n",
        "      randnum = np.random.rand(1)\n",
        "      if randnum < epsilon:\n",
        "        action = env.action_space.sample()\n",
        "      else:\n",
        "        action = np.argmax(Q[ax, ay, ex, ey, tx, ty,:])\n",
        "\n",
        "      observation, reward, done, _, info = env.step(action)\n",
        "\n",
        "      # handle multi-dims of Q table\n",
        "      ax_next = observation['agent'][0]\n",
        "      ay_next = observation['agent'][1]\n",
        "      ex_next = observation['enemy'][0]\n",
        "      ey_next = observation['enemy'][1]\n",
        "      tx_next = observation['target'][0]\n",
        "      ty_next = observation['target'][1]\n",
        "\n",
        "      #Q(state, action) = R(state, action) + Gamma * Max[Q(next state, all actions)]\n",
        "      Q[ax, ay, ex, ey, tx, ty, action] += lr * (reward+ discount*np.max(Q[ax_next, ay_next, ex_next, ey_next, tx_next, ty_next, :]) - Q[ax, ay, ex, ey, tx, ty, action])\n",
        "\n",
        "    # evaluation time\n",
        "    else:\n",
        "      action = np.argmax(Q[ax, ay, ex, ey, tx, ty,:])\n",
        "\n",
        "      observation, reward, done, _, info = env.step(action)\n",
        "\n",
        "  return Q, reward"
      ],
      "metadata": {
        "id": "AjSbhbrSRgis"
      },
      "execution_count": null,
      "outputs": []
    },
    {
      "cell_type": "code",
      "source": [
        "from pyparsing.helpers import Callable\n",
        "from tqdm import tqdm\n",
        "\n",
        "def QLearning(env: gym.Env, num_episodes: int, initQ: Callable, run_episode: Callable, config: dict):\n",
        "\n",
        "\treward_per_ep = list()\n",
        "\tQ = initQ(env)\n",
        "\n",
        "\tfor i in tqdm(range(num_episodes)):\n",
        "\t\tQ, reward = run_episode(env, Q, **config)\n",
        "\t\treward_per_ep.append(reward)\n",
        "\n",
        "\treturn Q, reward_per_ep\n"
      ],
      "metadata": {
        "id": "ay2Qv5SGRJge"
      },
      "execution_count": null,
      "outputs": []
    },
    {
      "cell_type": "code",
      "source": [
        "config = {}\n",
        "config['lr'] = 0.1\n",
        "config['discount'] = 0.99\n",
        "config['epsilon'] = 0.2\n",
        "num_episodes = 20000\n",
        "\n",
        "Q_trained, reward_per_ep = QLearning(gwenv,\n",
        "                                  \tnum_episodes,\n",
        "\t\t\t\t\t\t\t\t\t\t\t\t\t\t\t\t\t\tinitQ=initializeQ,\n",
        "\t\t\t\t\t\t\t\t\t\t\t\t\t\t\t\t\t\trun_episode=run_episode_gwenv,\n",
        "\t\t\t\t\t\t\t\t\t\t\t\t\t\t\t\t\t\tconfig=config)"
      ],
      "metadata": {
        "colab": {
          "base_uri": "https://localhost:8080/"
        },
        "id": "q9P0KI8DRMZX",
        "outputId": "f76bc2cf-a805-452c-b894-cba2ca310f33"
      },
      "execution_count": null,
      "outputs": [
        {
          "output_type": "stream",
          "name": "stderr",
          "text": [
            "100%|██████████| 20000/20000 [00:20<00:00, 967.69it/s] \n"
          ]
        }
      ]
    },
    {
      "cell_type": "code",
      "source": [
        "from matplotlib import pyplot as plt\n",
        "\n",
        "def averagewindow(R, d=1):\n",
        "    n = len(R)\n",
        "    t = []\n",
        "    y = []\n",
        "    for i in range(0,int(n/d)):\n",
        "        t.append(np.mean(range(i*d,(i+1)*d)));\n",
        "        y.append(np.mean(R[i*d:min(n,(i+1)*d)]))\n",
        "    return t,y\n",
        "\n",
        "window = 100\n",
        "t,y = averagewindow(reward_per_ep, d=window)\n",
        "plt.plot(t, y)"
      ],
      "metadata": {
        "colab": {
          "base_uri": "https://localhost:8080/",
          "height": 448
        },
        "id": "-0HSziawRPde",
        "outputId": "f9c82eae-6323-4a60-b179-cf7d8896c6fc"
      },
      "execution_count": null,
      "outputs": [
        {
          "output_type": "execute_result",
          "data": {
            "text/plain": [
              "[<matplotlib.lines.Line2D at 0x7ae23cf51510>]"
            ]
          },
          "metadata": {},
          "execution_count": 76
        },
        {
          "output_type": "display_data",
          "data": {
            "text/plain": [
              "<Figure size 640x480 with 1 Axes>"
            ],
            "image/png": "[encoded data removed]"
          },
          "metadata": {}
        }
      ]
    },
    {
      "cell_type": "code",
      "source": [
        "config['optimal'] = True                  # no learning anymore\n",
        "config['render'] = True                   # render for recording\n",
        "initQ_trained = lambda env: Q_trained     # dummy function that returns the trained Q table\n",
        "prefix = 'gwenv_q'\n",
        "vid_episodes = 4\n",
        "\n",
        "# use wrapper to record videos\n",
        "gwenv_vid = RecordVideo(gwenv,\n",
        "                        video_folder=video_folder,\n",
        "                        episode_trigger=lambda ep: (ep < vid_episodes),\n",
        "                        step_trigger=None,\n",
        "                        video_length=0,\n",
        "                        name_prefix=prefix,\n",
        "                        new_step_api=True\n",
        "                        )\n",
        "\n",
        "# use wrapper to record videos\n",
        "Q_trained, reward_per_ep_test = QLearning(gwenv_vid,\n",
        "                                          num_episodes=vid_episodes,\n",
        "                                          initQ=initQ_trained,\n",
        "                                          run_episode=run_episode_gwenv,\n",
        "                                          config=config)"
      ],
      "metadata": {
        "colab": {
          "base_uri": "https://localhost:8080/"
        },
        "id": "lyKKab5YRR1R",
        "outputId": "d85e8511-673c-4d10-b965-afacdfc44ae5"
      },
      "execution_count": null,
      "outputs": [
        {
          "output_type": "stream",
          "name": "stderr",
          "text": [
            "/usr/local/lib/python3.10/dist-packages/gym/wrappers/record_video.py:78: UserWarning: \u001b[33mWARN: Overwriting existing videos at /content/drive/MyDrive/WinterSchoolRL2024/Videos folder (try specifying a different `video_folder` for the `RecordVideo` wrapper if this is not desired)\u001b[0m\n",
            "  logger.warn(\n",
            "100%|██████████| 4/4 [00:01<00:00,  3.69it/s]\n"
          ]
        }
      ]
    },
    {
      "cell_type": "code",
      "source": [
        "show_videos(video_folder, prefix=prefix)"
      ],
      "metadata": {
        "colab": {
          "base_uri": "https://localhost:8080/",
          "height": 1000
        },
        "id": "8Z0ugiUGUG_f",
        "outputId": "6d90fcaa-5186-43cd-f6d2-da9804b63a37"
      },
      "execution_count": null,
      "outputs": [
        {
          "output_type": "display_data",
          "data": {
            "text/plain": [
              "<IPython.core.display.HTML object>"
            ],
            "text/html": [
              "<video alt=\"drive/MyDrive/WinterSchoolRL2024/Videos/gwenv_q-episode-0.mp4\" autoplay\n",
              "                    loop controls style=\"height: 400px;\">\n",
              "                    <source src=\"data:video/mp4;base64,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\" type=\"video/mp4\" />\n",
              "                </video><br><video alt=\"drive/MyDrive/WinterSchoolRL2024/Videos/gwenv_q-episode-1.mp4\" autoplay\n",
              "                    loop controls style=\"height: 400px;\">\n",
              "                    <source src=\"data:video/mp4;base64,AAAAIGZ0eXBpc29tAAACAGlzb21pc28yYXZjMW1wNDEAAAAIZnJlZQAAAABtZGF0\" type=\"video/mp4\" />\n",
              "                </video><br><video alt=\"drive/MyDrive/WinterSchoolRL2024/Videos/gwenv_q-episode-2.mp4\" autoplay\n",
              "                    loop controls style=\"height: 400px;\">\n",
              "                    <source src=\"data:video/mp4;base64,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\" type=\"video/mp4\" />\n",
              "                </video><br><video alt=\"drive/MyDrive/WinterSchoolRL2024/Videos/gwenv_q-episode-3.mp4\" autoplay\n",
              "                    loop controls style=\"height: 400px;\">\n",
              "                    <source src=\"data:video/mp4;base64,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\" type=\"video/mp4\" />\n",
              "                </video>"
            ]
          },
          "metadata": {}
        }
      ]
    },
    {
      "cell_type": "code",
      "source": [],
      "metadata": {
        "id": "irYos55TUK6e"
      },
      "execution_count": null,
      "outputs": []
    }
  ]
}